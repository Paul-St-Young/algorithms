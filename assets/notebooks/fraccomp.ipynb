{
 "metadata": {
  "kernelspec": {
   "display_name": "Python 2",
   "language": "python",
   "name": "python2"
  },
  "language_info": {
   "codemirror_mode": {
    "name": "ipython",
    "version": 2
   },
   "file_extension": ".py",
   "mimetype": "text/x-python",
   "name": "python",
   "nbconvert_exporter": "python",
   "pygments_lexer": "ipython2",
   "version": "2.7.10"
  },
  "name": "",
  "signature": "sha256:a9c3079fb78ce43a33c4b22a23984d6411c8572b1ea7e3e5d1194a11b8e37628"
 },
 "nbformat": 3,
 "nbformat_minor": 0,
 "worksheets": [
  {
   "cells": [
    {
     "cell_type": "code",
     "collapsed": false,
     "input": [
      "import numpy as np\n",
      "import matplotlib.pyplot as plt\n",
      "import matplotlib.cm as cm\n",
      "from PIL import Image\n",
      "import multiprocessing\n",
      "import cv2"
     ],
     "language": "python",
     "metadata": {},
     "outputs": [],
     "prompt_number": 1
    },
    {
     "cell_type": "code",
     "collapsed": true,
     "input": [
      "def lstsq(img_large, img_small):\n",
      "    x = np.reshape(img_small, N*N)\n",
      "    y = np.reshape(img_large, N*N)\n",
      "    A = np.array([x, np.ones(len(x))]).T\n",
      "    return np.linalg.lstsq(A,y)"
     ],
     "language": "python",
     "metadata": {},
     "outputs": [],
     "prompt_number": 2
    },
    {
     "cell_type": "code",
     "collapsed": true,
     "input": [
      "def calc(s, t):\n",
      "    residues = np.zeros((256-N,256-N))\n",
      "    for j in range(256-N):\n",
      "        for i in range(256-N):\n",
      "            residues[j][i] = lstsq(img1[t:t+N, s:s+N], img2[j:j+N, i:i+N])[1]\n",
      "\n",
      "    for j in range(256-N):\n",
      "        for i in range(256-N):\n",
      "            if residues[j][i] == np.amin(residues):\n",
      "                x, y = i, j\n",
      "                break;\n",
      "        if residues[j][i] == np.amin(residues):\n",
      "            break\n",
      "\n",
      "    m, c = lstsq(img1[t:t+N, s:s+N], img2[y:y+N, x:x+N])[0]\n",
      "    return np.r_[x, y, m, c]"
     ],
     "language": "python",
     "metadata": {},
     "outputs": [],
     "prompt_number": 3
    },
    {
     "cell_type": "code",
     "collapsed": true,
     "input": [
      "def main(num):\n",
      "    p = np.zeros((512/N/cpu, 512/N, 4))\n",
      "    for j in range(512/N/cpu):\n",
      "        for i in range(512/N):\n",
      "            p[j][i] = calc(i*N, (j+512/N/cpu*num)*N)\n",
      "    return p\n"
     ],
     "language": "python",
     "metadata": {},
     "outputs": [],
     "prompt_number": 4
    },
    {
     "cell_type": "code",
     "collapsed": true,
     "input": [
      "if __name__ == '__main__':\n",
      "    cpu = multiprocessing.cpu_count()\n",
      "    N = 32\n",
      "    img1 = np.array(Image.open('Lenna.jpg').convert(\"L\"))\n",
      "    img2 = cv2.resize(img1,(256,256))\n",
      "\n",
      "    pool = multiprocessing.Pool(cpu)\n",
      "    callback = pool.map(main, range(cpu))\n",
      "\n",
      "    print 'process finished!'\n",
      "\n",
      "    d = np.zeros((512/N, 512/N, 4))\n",
      "    for i in range(cpu):\n",
      "        d[i*512/N/cpu:(i+1)*512/N/cpu] = callback[i]\n",
      "\n",
      "    img3 = np.zeros((256, 256))\n",
      "    dst = np.zeros((512, 512))\n",
      "\n",
      "    for k in range(10):\n",
      "        for j in range(512/N):\n",
      "            for i in range(512/N):\n",
      "                dst[j*N:j*N+N, i*N:i*N+N] = img3[d[j][i][1]:d[j][i][1]+N, d[j][i][0]:d[j][i][0]+N] * d[j][i][2] + d[j][i][3]\n",
      "        img3 = cv2.resize(dst,(256,256))\n",
      "        cv2.imwrite(str(N)+\"_\"+str(k+1)+\".jpg\", dst)"
     ],
     "language": "python",
     "metadata": {},
     "outputs": [],
     "prompt_number": null
    }
   ],
   "metadata": {}
  }
 ]
}