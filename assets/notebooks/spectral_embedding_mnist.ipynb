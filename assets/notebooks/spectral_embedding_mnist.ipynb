{
 "cells": [
  {
   "cell_type": "markdown",
   "metadata": {},
   "source": [
    "# Spectral embedding and clustering\n"
   ]
  },
  {
   "cell_type": "markdown",
   "metadata": {},
   "source": [
    "## Data $s_1,\\ldots,s_N$\n",
    "\n",
    "To perform our analysis this time, we will use the MNIST handwritten digit dataset."
   ]
  },
  {
   "cell_type": "code",
   "execution_count": 1,
   "metadata": {},
   "outputs": [],
   "source": [
    "% matplotlib qt\n",
    "\n",
    "from sklearn.datasets import fetch_openml\n",
    "import numpy as np\n",
    "import matplotlib.pyplot as plt\n",
    "from matplotlib import rcParams\n",
    "\n",
    "rcParams['font.size'] = 30\n",
    "\n",
    "# Load MNIST data from https://www.openml.org/d/554\n",
    "X, y = fetch_openml('mnist_784', version=1, return_X_y=True)"
   ]
  },
  {
   "cell_type": "code",
   "execution_count": 2,
   "metadata": {},
   "outputs": [],
   "source": [
    "% matplotlib qt\n",
    "\n",
    "np.random.seed(1)\n",
    "\n",
    "num_samples = 2000\n",
    "\n",
    "# Select num_samples random MNIST digits to analyze.\n",
    "data = X[np.random.choice(int(X.shape[0]), num_samples), :]/255.\n",
    "\n",
    "num_clusters = 10\n",
    "\n",
    "digit = data[0,:]\n",
    "digit = np.reshape(digit, (28,28))\n",
    "\n",
    "plt.imshow(digit, cmap='Greys')\n",
    "\n",
    "plt.show()"
   ]
  },
  {
   "cell_type": "markdown",
   "metadata": {},
   "source": [
    "## Kernel $K(s_i,s_j)$\n",
    "\n",
    "Spectral embedding and other \"kernel trick\" methods use a kernel $K(s_i, s_j)$ that measures similarity between data points. The choice of kernel is part of the procedure and requires some intuition/trial-and-error.\n",
    "\n",
    "A popular choice of kernel is the Gaussian kernel\n",
    "$$ K(s_i, s_j) = \\exp\\left(- \\frac{||s_i - s_j||^2}{2\\sigma^2}\\right) $$"
   ]
  },
  {
   "cell_type": "code",
   "execution_count": 24,
   "metadata": {},
   "outputs": [
    {
     "data": {
      "text/plain": [
       "<matplotlib.image.AxesImage at 0x7f21cc8800d0>"
      ]
     },
     "execution_count": 24,
     "metadata": {},
     "output_type": "execute_result"
    }
   ],
   "source": [
    "% matplotlib qt\n",
    "\n",
    "import numpy.linalg as nla\n",
    "\n",
    "# Gaussian kernel with variance sigma^2.\n",
    "sigma = 100.0\n",
    "def kernel(s_i, s_j):\n",
    "    return np.exp(-nla.norm(s_i - s_j)**2.0 / (2.0*sigma**2.0))\n",
    "\n",
    "# The kernel matrix of the data.\n",
    "kernel_matrix = np.zeros((num_samples, num_samples))\n",
    "for i in range(num_samples):\n",
    "    for j in range(i, num_samples):\n",
    "        kernel_matrix[i,j] = kernel(data[i,:], data[j,:])\n",
    "        kernel_matrix[j,i] = kernel_matrix[i,j]\n",
    "        \n",
    "plt.matshow(kernel_matrix)"
   ]
  },
  {
   "cell_type": "markdown",
   "metadata": {},
   "source": [
    "## Graph Laplacian $L$\n",
    "\n",
    "A key step of spectral embedding is the construction of the graph Laplacian, $L = D - K$, where $D_{ij} = \\sum_{l=1}^n K(s_i, s_l) \\delta_{ij}$ is the degree matrix and $K_{ij} = K(s_i, s_j)$ is the edge weight matrix (the kernel matrix). The graph Laplacian can be interpreted as an effective quadratic Hamiltonian for springs coupled Harmonically."
   ]
  },
  {
   "cell_type": "code",
   "execution_count": 4,
   "metadata": {},
   "outputs": [
    {
     "data": {
      "text/plain": [
       "<matplotlib.image.AxesImage at 0x7f21ec010610>"
      ]
     },
     "execution_count": 4,
     "metadata": {},
     "output_type": "execute_result"
    }
   ],
   "source": [
    "% matplotlib qt\n",
    "\n",
    "degrees = np.sum(kernel_matrix, axis=0)\n",
    "D = np.diag(degrees)\n",
    "K = kernel_matrix\n",
    "\n",
    "L = D - K\n",
    "\n",
    "plt.matshow(L)"
   ]
  },
  {
   "cell_type": "markdown",
   "metadata": {},
   "source": [
    "## Spectrum of $L$\n",
    "\n",
    "Compute the spectrum of $L$. Ignore the exactly zero eigenvector as it has to always be $(1,\\ldots,1)$, which does not give us useful information."
   ]
  },
  {
   "cell_type": "code",
   "execution_count": 25,
   "metadata": {},
   "outputs": [
    {
     "name": "stdout",
     "output_type": "stream",
     "text": [
      "Smallest eigenvalues = [  2.48569139e-13   1.98290340e+03   1.98298467e+03   1.98316849e+03\n",
      "   1.98318602e+03   1.98416835e+03   1.98420977e+03   1.98447910e+03\n",
      "   1.98449305e+03   1.98451311e+03   1.98453060e+03   1.98463880e+03\n",
      "   1.98466076e+03   1.98467592e+03   1.98475062e+03   1.98475523e+03\n",
      "   1.98479111e+03   1.98481531e+03   1.98485246e+03   1.98492046e+03]\n"
     ]
    }
   ],
   "source": [
    "% matplotlib qt\n",
    "\n",
    "import numpy.linalg as nla\n",
    "\n",
    "(eigvals, eigvecs) = nla.eigh(L)\n",
    "\n",
    "print('Smallest eigenvalues = {}'.format(eigvals[0:2*num_clusters]))\n",
    "\n",
    "plt.plot(eigvals[1:], 'ro')\n",
    "plt.xlabel('Eigenvalue index')\n",
    "plt.ylabel('Eigenvalue')\n",
    "\n",
    "plt.show()"
   ]
  },
  {
   "cell_type": "markdown",
   "metadata": {},
   "source": [
    "## Spectral clustering\n",
    "\n",
    "Here we use spectral clustering to find which cluster the digits fit into:"
   ]
  },
  {
   "cell_type": "code",
   "execution_count": 22,
   "metadata": {},
   "outputs": [],
   "source": [
    "from sklearn.cluster import KMeans, SpectralClustering\n",
    "\n",
    "sigma = 500.0\n",
    "\n",
    "# spectral clustering\n",
    "sc = SpectralClustering(n_clusters=num_clusters, gamma=1.0/sigma**2.0, affinity='rbf', n_init=100, random_state=0, assign_labels='kmeans').fit(data)\n",
    "\n",
    "skl_sc_clusters_info = []\n",
    "for ind_cluster in range(num_clusters):\n",
    "    skl_sc_clusters_info.append([])\n",
    "\n",
    "for ind_point in range(num_samples):\n",
    "    ind_cluster = sc.labels_[ind_point]\n",
    "    skl_sc_clusters_info[ind_cluster].append(ind_point)"
   ]
  },
  {
   "cell_type": "markdown",
   "metadata": {},
   "source": [
    "## Results\n",
    "\n",
    "Here we show which digits it put into which cluster."
   ]
  },
  {
   "cell_type": "code",
   "execution_count": 26,
   "metadata": {},
   "outputs": [],
   "source": [
    "% matplotlib qt\n",
    "\n",
    "num_cols = 10\n",
    "\n",
    "plt.figure()\n",
    "\n",
    "ind_subplot = 1\n",
    "for ind_cluster in range(num_clusters):\n",
    "    for ind_col in range(num_cols):\n",
    "        plt.subplot(num_clusters, num_cols, ind_subplot)\n",
    "        \n",
    "        ind_point = skl_sc_clusters_info[ind_cluster][ind_col]\n",
    "        digit = data[ind_point, :]\n",
    "        digit = np.reshape(digit, (28,28))\n",
    "        \n",
    "        plt.imshow(digit, cmap='Greys')\n",
    "        \n",
    "        frame1 = plt.gca()\n",
    "        frame1.axes.xaxis.set_ticklabels([])\n",
    "        frame1.axes.yaxis.set_ticklabels([])\n",
    "        \n",
    "        ind_subplot += 1\n",
    "        \n",
    "plt.show()"
   ]
  },
  {
   "cell_type": "code",
   "execution_count": null,
   "metadata": {},
   "outputs": [],
   "source": []
  }
 ],
 "metadata": {
  "kernelspec": {
   "display_name": "Python 3",
   "language": "python",
   "name": "python3"
  },
  "language_info": {
   "codemirror_mode": {
    "name": "ipython",
    "version": 2
   },
   "file_extension": ".py",
   "mimetype": "text/x-python",
   "name": "python",
   "nbconvert_exporter": "python",
   "pygments_lexer": "ipython2",
   "version": "2.7.15rc1"
  }
 },
 "nbformat": 4,
 "nbformat_minor": 2
}
