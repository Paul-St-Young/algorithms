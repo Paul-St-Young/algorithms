{
 "cells": [
  {
   "cell_type": "markdown",
   "metadata": {},
   "source": [
    "# Compress and Decompress speech using the LPC method"
   ]
  },
  {
   "cell_type": "code",
   "execution_count": 2,
   "metadata": {
    "collapsed": false
   },
   "outputs": [
    {
     "name": "stderr",
     "output_type": "stream",
     "text": [
      "/usr/local/lib/python2.7/site-packages/matplotlib/font_manager.py:273: UserWarning: Matplotlib is building the font cache using fc-list. This may take a moment.\n",
      "  warnings.warn('Matplotlib is building the font cache using fc-list. This may take a moment.')\n"
     ]
    }
   ],
   "source": [
    "%matplotlib inline\n",
    "import numpy as np\n",
    "import matplotlib.pyplot as plt\n",
    "plt.rcParams['figure.figsize'] = (7,5)\n",
    "import itertools as it"
   ]
  },
  {
   "cell_type": "code",
   "execution_count": 21,
   "metadata": {
    "collapsed": true
   },
   "outputs": [],
   "source": [
    "import wave\n",
    "import struct"
   ]
  },
  {
   "cell_type": "markdown",
   "metadata": {},
   "source": [
    "I'll have an object ComDec with all the audio parameters (WAV parameters, the windowing and overlap parameters, and the autocorrelation parameters), the input WAV data, the output WAV data, and the compressed data ($\\alpha_i$'s, gain $G$, and fundamental frequency $F_1$)."
   ]
  },
  {
   "cell_type": "code",
   "execution_count": 22,
   "metadata": {
    "collapsed": false
   },
   "outputs": [],
   "source": [
    "class ComDec:\n",
    "    \"\"\"\n",
    "    Variables:\n",
    "    - Files\n",
    "    self.input_filename\n",
    "    self.input_file\n",
    "    self.output_filename\n",
    "    self.output_file\n",
    "    \n",
    "    - Parameters\n",
    "    self.params\n",
    "    self.window_size\n",
    "    self.window_displacement\n",
    "    self.overlap_size\n",
    "    self.order\n",
    "    self.min_fundamental_period\n",
    "    self.max_fundamental_period\n",
    "    self.num_windows\n",
    "    \n",
    "    - data\n",
    "    self.input_data\n",
    "    self.alphas\n",
    "    self.gains\n",
    "    self.voiced\n",
    "    self.fundamentals\n",
    "    self.output_data\n",
    "    \"\"\"\n",
    "    \n",
    "    def __init__(self, input_filename):\n",
    "        self.input_filename = input_filename\n",
    "        self.input_file = wave.open(self.input_filename, 'r')\n",
    "        self.params = self.input_file.getparams()\n",
    "        nframes = self.input_file.getnframes()\n",
    "        self.input_data = np.empty(nframes)\n",
    "        for f in range(nframes):\n",
    "            amplitude = self.input_file.readframes(1)\n",
    "            self.input_data[f] = struct.unpack('=h', amplitude)[0]\n",
    "        \n",
    "    ### Files\n",
    "        \n",
    "    def define_output(self, output_filename):\n",
    "        self.output_filename = output_filename\n",
    "        self.output_file = wave.open(self.output_filename, 'w')\n",
    "        self.output_file.setparams(self.params)\n",
    "        \n",
    "    def write_output(self):\n",
    "        # self.params[3] is nframes\n",
    "        for i in range(0, self.params[3]):\n",
    "            self.output_file.writeframes(struct.pack('=h', int(self.output_data[i])))\n",
    "    \n",
    "    # Params are (window_size, window_displacement, order, min_fundamental_period,\n",
    "    # max_fundamental_period).\n",
    "    # (window_size - window_displacement) assumed to be even.\n",
    "    def define_compression_params(self, window_size=240, window_displacement=160, order=20,\n",
    "                                 min_fundamental_period=20, max_fundamental_period=150):\n",
    "        self.window_size = window_size\n",
    "        self.window_displacement = window_displacement\n",
    "        self.overlap_size = (self.window_size - self.window_displacement)\n",
    "        self.order = order\n",
    "        self.min_fundamental_period = min_fundamental_period\n",
    "        self.max_fundamental_period = max_fundamental_period\n",
    "        self.num_windows = self.input_file.getnframes() / self.window_displacement - 1\n",
    "        \n",
    "        self.alphas = np.zeros((self.num_windows, self.order))\n",
    "        self.gains = np.zeros(self.num_windows)\n",
    "        self.voiced = [None] * self.num_windows\n",
    "        self.fundamentals = np.zeros(self.num_windows, dtype=int)\n",
    "        \n",
    "    ### Auxiliary functions\n",
    "        \n",
    "    def get_window(self, window_number):\n",
    "        start_window = self.window_displacement * window_number\n",
    "        end_window = start_window + self.window_size\n",
    "        return self.input_data[start_window:end_window]\n",
    "    \n",
    "    ### Compression\n",
    "    \n",
    "    def compress(self):\n",
    "        for window_number in range(self.num_windows):\n",
    "            self.compress_window(window_number)\n",
    "    \n",
    "    def compress_window(self, window_number):\n",
    "        window = self.get_window(window_number)\n",
    "        R = self.get_R(window)\n",
    "        alpha = self.get_alpha(R)\n",
    "        self.alphas[window_number] = alpha\n",
    "        self.gains[window_number] = self.get_gain(alpha, R)\n",
    "        self.voiced[window_number] = self.get_voiced(R)\n",
    "        self.fundamentals[window_number] = self.get_fundamental(R)\n",
    "        \n",
    "    def get_R(self, window):\n",
    "        R = np.zeros(self.max_fundamental_period)\n",
    "        for k in range(self.max_fundamental_period):\n",
    "            for i in range(self.window_size - k):\n",
    "                R[k] += window[i] * window[i + k]\n",
    "        return R\n",
    "    \n",
    "    def get_alpha(self, R):\n",
    "        R_matrix = np.empty((self.order, self.order))\n",
    "        for k, l in it.product(range(self.order), repeat=2):\n",
    "            R_matrix[k, l] = R[abs(k - l)]\n",
    "        alpha = np.linalg.solve(R_matrix, R[1:self.order+1])\n",
    "        return alpha\n",
    "        \n",
    "    def get_gain(self, alpha, R):\n",
    "        gain = np.sqrt(R[0] - sum([alpha[k] * R[k + 1] for k in range(self.order)]))\n",
    "        return gain\n",
    "    \n",
    "    def get_voiced(self, R):\n",
    "        normalized_R = R[self.min_fundamental_period:]\n",
    "        normalized_R = abs(normalized_R)\n",
    "        normalized_R /= max(normalized_R)\n",
    "        area = sum(normalized_R)\n",
    "        return area < len(normalized_R) * 0.28\n",
    "    \n",
    "    def get_fundamental(self, R):\n",
    "        return np.argmax(R[self.min_fundamental_period:]) + self.min_fundamental_period\n",
    "        \n",
    "    ### Decompression\n",
    "    \n",
    "    def decompress(self):\n",
    "        self.decompressed_windows = np.empty((self.num_windows, self.window_size))\n",
    "        excitation_position = 0\n",
    "        for window_number in range(self.num_windows):\n",
    "            self.decompressed_windows[window_number], next_excitation_position =\\\n",
    "                            self.decompressed_window(window_number, excitation_position)\n",
    "            excitation_position = next_excitation_position\n",
    "            #print 'next_excitation_position = {}'.format(next_excitation_position)\n",
    "        self.merge_windows(self.decompressed_windows)\n",
    "    \n",
    "    def decompressed_window(self, window_number, excitation_position=0):\n",
    "        extended_window, next_excitation_position =\\\n",
    "                        self.get_voiced_excitation(window_number, excitation_position)\n",
    "        for i in range(self.order, len(extended_window)):\n",
    "            extended_window[i] += sum([self.alphas[window_number, k]\n",
    "                                       * extended_window[i - k - 1]\n",
    "                                       for k in range(self.order)])\n",
    "        return extended_window[8 * self.order:], next_excitation_position\n",
    "        \n",
    "    def get_voiced_excitation(self, window_number, excitation_position):\n",
    "        extended_window = np.zeros(self.window_size + 8 * self.order)\n",
    "        position = excitation_position + 8 * self.order\n",
    "        while position >= 0:\n",
    "            position -= self.fundamentals[window_number]\n",
    "        position += self.fundamentals[window_number]\n",
    "        while position < self.window_size + 8 * self.order:\n",
    "            extended_window[position] = self.gains[window_number]\n",
    "            position += self.fundamentals[window_number]\n",
    "        return extended_window, (position - 8 * self.order) % (self.window_displacement)\n",
    "    \n",
    "    def merge_windows(self, windows):\n",
    "        self.output_data = np.zeros(len(self.input_data))\n",
    "        for window_number in range(self.num_windows):\n",
    "            start_window = window_number * self.window_displacement\n",
    "            for i in range(0, self.overlap_size):\n",
    "                self.output_data[start_window + i] += windows[window_number, i] / 2.0\n",
    "            for i in range(self.overlap_size, self.window_size - self.overlap_size):\n",
    "                self.output_data[start_window + i] += windows[window_number, i]\n",
    "            for i in range(self.window_size - self.overlap_size, self.window_size):\n",
    "                self.output_data[start_window + i] += windows[window_number, i] / 2.0\n",
    "            \n",
    "    ### Close files\n",
    "        \n",
    "    def close_input(self):\n",
    "        self.input_file.close()\n",
    "        \n",
    "    def close_output(self):\n",
    "        self.output_file.close()"
   ]
  },
  {
   "cell_type": "code",
   "execution_count": 28,
   "metadata": {
    "collapsed": false
   },
   "outputs": [],
   "source": [
    "filename = 'demo'\n",
    "my_ComDec = ComDec('wav_examples/{}.wav'.format(filename))"
   ]
  },
  {
   "cell_type": "code",
   "execution_count": 29,
   "metadata": {
    "collapsed": false
   },
   "outputs": [],
   "source": [
    "my_ComDec.define_compression_params(order=5)"
   ]
  },
  {
   "cell_type": "code",
   "execution_count": 30,
   "metadata": {
    "collapsed": false
   },
   "outputs": [],
   "source": [
    "my_ComDec.compress()"
   ]
  },
  {
   "cell_type": "code",
   "execution_count": 31,
   "metadata": {
    "collapsed": false
   },
   "outputs": [
    {
     "data": {
      "image/png": "[encoded data removed]",
      "text/plain": [
       "<matplotlib.figure.Figure at 0x10f782f10>"
      ]
     },
     "metadata": {},
     "output_type": "display_data"
    }
   ],
   "source": [
    "fig, ax = plt.subplots(2)\n",
    "#ax[0].scatter(range(my_ComDec.num_windows), my_ComDec.voiced)\n",
    "ax[0].plot(my_ComDec.gains)\n",
    "ax[0].set_xlim(0, 162)\n",
    "#ax[0].set_ylim(0, 150)\n",
    "#ax[0].set_ylabel('Fundamental periods')\n",
    "ax[0].set_ylabel('Gain')\n",
    "#ax[0].set_xlabel('Window number')\n",
    "#ax[0].tick_params(\n",
    "#    axis='x',          # changes apply to the x-axis\n",
    "#    which='both',      # both major and minor ticks are affected\n",
    "#    bottom='off',      # ticks along the bottom edge are off\n",
    "#    top='off',         # ticks along the top edge are off\n",
    "#    labelbottom='off')\n",
    "ax[1].plot(my_ComDec.input_data)\n",
    "ax[1].set_ylabel(r'$x_i$', fontsize='xx-large')\n",
    "ax[1].set_xlabel('Time sample ' + r'i')\n",
    "ax[1].set_xlim(0, 25920)\n",
    "plt.savefig('plots/frequency_believe.eps', bbox_inches='tight')"
   ]
  },
  {
   "cell_type": "code",
   "execution_count": 32,
   "metadata": {
    "collapsed": false
   },
   "outputs": [],
   "source": [
    "my_ComDec.decompress()"
   ]
  },
  {
   "cell_type": "code",
   "execution_count": 33,
   "metadata": {
    "collapsed": false
   },
   "outputs": [],
   "source": [
    "my_ComDec.output_data /= 1.0 #Increase this number if errors appear (renormalization of amplitudes might be needed)\n",
    "my_ComDec.define_output('wav_examples/{}_output.wav'.format(filename))\n",
    "my_ComDec.write_output()\n",
    "my_ComDec.close_output()"
   ]
  },
  {
   "cell_type": "code",
   "execution_count": 34,
   "metadata": {
    "collapsed": true
   },
   "outputs": [],
   "source": [
    "my_ComDec.close_input()"
   ]
  },
  {
   "cell_type": "code",
   "execution_count": null,
   "metadata": {
    "collapsed": true
   },
   "outputs": [],
   "source": []
  }
 ],
 "metadata": {
  "kernelspec": {
   "display_name": "Python 2",
   "language": "python",
   "name": "python2"
  },
  "language_info": {
   "codemirror_mode": {
    "name": "ipython",
    "version": 2
   },
   "file_extension": ".py",
   "mimetype": "text/x-python",
   "name": "python",
   "nbconvert_exporter": "python",
   "pygments_lexer": "ipython2",
   "version": "2.7.11"
  }
 },
 "nbformat": 4,
 "nbformat_minor": 2
}
