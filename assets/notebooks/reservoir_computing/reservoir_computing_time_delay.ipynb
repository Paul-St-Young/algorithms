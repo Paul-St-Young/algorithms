{
 "cells": [
  {
   "cell_type": "markdown",
   "metadata": {},
   "source": [
    "# Reservoir Computing in the Time Domain\n",
    "\n",
    "\n",
    "### **High-Speed Photonic Reservoir Computing Using a Time-Delay-Based Architecture: <br>Million Words per Second Classification**\n",
    "Laurent Larger, Antonio Baylón-Fuentes, Romain Martinenghi, Vladimir S. Udaltsov, Yanne K. Chembo and Maxime Jacquot <br>\n",
    "*PHYSICAL REVIEW X* 7, 011015 (2017). DOI:10.1103/PhysRevX.7.011015\n"
   ]
  },
  {
   "cell_type": "markdown",
   "metadata": {},
   "source": [
    "## Reservoir computing: a class of neural networks\n",
    "\n",
    "The idea of reservoir computing is a special realization of a neural network. A long explanation of reservoir computing is given in M. Lukoševičius and H. Jaeger, \"Reservoir Computing Approaches to Recurrent Neural Network Training,\" *Computer Sci. Rev.* 3, 127 (2009). DOI:10.1016/j.cosrev.2009.03.005\n",
    "\n",
    "**Typical neural networks** are composed of layers, where nodes each layer feed into the nodes in the next layer until the output layer is reached. You could think of this as a discrete time propagation through the network.\n",
    "\n",
    "**Recurrent neural networks**, in contrast, have cycles: the signal leaving a node will eventually return to it through a cycle. The values of the nodes are repeatedly updated as the network evolves. While typical neural networks are nonlinear functions, a recurrent neural network is a nonlinear dynamical system.\n",
    "\n",
    "In reservoir computing, the input weights and internal weights of the neural network are initialized randomly, and *not updated during training*. During training, only the readout weights are updated\n",
    "\n",
    "## A single node\n",
    "\n",
    "Neural network architectures have the potential to solve some problems more efficiently than simulations on conventional semiconductor computers if they can be implemented with the right hardware. Connecting several nodes for a recurrent neural network requires communication between nodes and is hard in practice. It turns out that you can get the same computing done by a *single node* with internal nonlinear delay dynamics.\n",
    "\n",
    "Larger et. al. use a laser in an optical fiber with some fancy (but totally standard) communications electronics to realize this nonlinear delay system."
   ]
  },
  {
   "cell_type": "markdown",
   "metadata": {},
   "source": [
    "## The dynamics\n",
    "\n",
    "The system obeys the following dyamics\n",
    "\n",
    "\\begin{align}\n",
    "\\tau \\dot{x}(t) &= -x(t) + \\frac{1}{\\theta}y(t) + f_{NL}[\\phi(t-\\tau_D)] \\\\\n",
    "\\dot{y}(t) &= x(t),\n",
    "\\end{align}\n",
    "\n",
    "where $f_{NL}$ defines the nonlinear dynamics. The time delay $\\tau_D$ defines the cyclic nature of the coupling. The laser setup used by Larger et. al. incorporates a demodulator (with a \"time imbalance\" $\\delta T$), described by an interference function:\n",
    "\n",
    "\\begin{equation}\n",
    "f_{NL}[\\phi] = \\beta \\lbrace \\cos^2 [\\phi(t) - \\phi(t-\\delta T) + \\Phi_0^2] - \\cos^2 \\Phi_0 \\rbrace.\n",
    "\\end{equation}\n",
    "\n",
    "The function $\\phi$ encodes the state $x(t)$ and inputs $u(t)$:\n",
    "\\begin{equation}\n",
    "\\phi(t) = x_{\\sigma}(n) + \\rho u^I_\\sigma(n).\n",
    "\\end{equation}\n",
    "\n",
    "The symbols $\\sigma$ and $n$ are used to discretize time into intervals that can represent the nodes of the reservoir network ($\\sigma$) and the discrete time steps ($n$) for the network evolution.\n",
    "\n",
    "\\begin{align}\n",
    "K &= \\text{number of nodes} \\\\\n",
    "N_L &= \\text{number of inputs per delay cycle}\n",
    "\\end{align}\n",
    "\n",
    "The $K$ nodes are defined by time intervals beginning at time $\\sigma_k$. Since there are $N_L$ inputs in time $\\tau_D$, the time for one input vector is $\\tau_D/N_L$. So the $K$ intervals for the nodes each correspond to a time interval $\\frac{\\tau_D}{KN_L}$\n",
    "\n",
    "\n",
    "\\begin{align}\n",
    "\\sigma_k(t) &= \\frac{k-1}{K} \\frac{\\tau_D}{N_L} \\\\\n",
    "n &= \\text{floor} \\left( t \\frac{N_L}{\\tau_D} \\right) \\\\\n",
    "t &= n \\frac{\\tau_D}{N_L} + \\sigma\n",
    "\\end{align}\n"
   ]
  },
  {
   "cell_type": "code",
   "execution_count": 1,
   "metadata": {
    "collapsed": false
   },
   "outputs": [],
   "source": [
    "import numpy as np\n",
    "from matplotlib import pyplot as plt\n",
    "import scipy\n",
    "import time\n",
    "\n",
    "from ddeint import ddeint\n",
    "import mnist"
   ]
  },
  {
   "cell_type": "code",
   "execution_count": 115,
   "metadata": {
    "collapsed": false
   },
   "outputs": [],
   "source": [
    "class Reservoir:\n",
    "    # System Parameters\n",
    "    tau = 284e-12 #ps internal dynamics response time\n",
    "    dT = 402.68e-12 #ps demodulator time imbalance\n",
    "    beta = 2 #?\n",
    "    rho = 10 #?\n",
    "    theta = 3e-6 #us\n",
    "    Phi0 = 0\n",
    "    # Input/Output parameters\n",
    "    dtau = 56.8e-12 #ps node spacing, 5 nodes per response time\n",
    "    K = 371 # row elements in transformed input\n",
    "    Q = 86 # rows in original input matrix\n",
    "    N = 60 # columns in input matrix, varies depending on sample\n",
    "    L = 3 # number of inputs to put together in one time-layer\n",
    "    \n",
    "    def __init__(self, **kwargs):\n",
    "        self.update_params(**kwargs)\n",
    "        \n",
    "    def update_params(self, **kwargs):\n",
    "        self.__dict__.update(kwargs)\n",
    "        self.cos2Phi0 = np.cos(self.Phi0)**2\n",
    "        self.tauD = self.dtau * self.K * self.L\n",
    "        \n",
    "    def phi(self, x, t0, u): \n",
    "        i = int(np.floor(t0 / self.dtau))\n",
    "        tsigma = np.mod(t0, self.dtau)\n",
    "        if i>len(u):\n",
    "            print('Warning: i =',i,'>',len(u))\n",
    "        return x(i*self.dtau)[0] + self.rho*u[i%len(u)]\n",
    "\n",
    "    def fnl(self, x, t0, u): \n",
    "        # x is a function of t; it returns the vector (x,y) to be solved\n",
    "        return self.beta * (np.cos(self.phi(x, t0, u)  \n",
    "                            - self.phi(x, t0-self.dT, u) + self.Phi0)**2 - self.cos2Phi0)\n",
    "\n",
    "    def model(self, x, t0, u): \n",
    "        return np.array([(-x(t0)[0] + x(t0)[1]/self.theta + self.fnl(x, t0-self.tauD, u))/self.tau, \n",
    "                           x(t0)[0]])\n",
    "\n",
    "    def run(self, all_u, readresolution=1, epsilon=0.012):\n",
    "        # Want to evaluate model at read-out times for each u\n",
    "        # readstep is smaller than dtau so that asynchronous readouts \n",
    "        #   can be interpolated\n",
    "        tt = np.arange(all_u.shape[1]/readresolution) * readresolution*self.dtau*(1+epsilon)\n",
    "        x = [ddeint(self.model, lambda t:np.zeros(2), tt, fargs=(u,))[:,0] for u in all_u]\n",
    "        return tt, np.array(x)\n",
    "\n",
    "class Learner:\n",
    "    \n",
    "    data = {'training':{'labels':[], 'values':[]}, 'testing':{'labels':[], 'values':[]}}\n",
    "    # Input/Output parameters\n",
    "    dtau = 56.8e-12 #ps node spacing, 5 nodes per response time\n",
    "    K = 371 # row elements in transformed input\n",
    "    L = 3 # number of inputs to put together in one time-layer\n",
    "    WI = None\n",
    "    \n",
    "    def __init__(self, **kwargs):\n",
    "        self.__dict__.update(kwargs)\n",
    "        self.reservoir = Reservoir(dtau=self.dtau, K=self.K, L=self.L)\n",
    "    \n",
    "    def get_mnist_data(self, dataset='training', ndata=1):\n",
    "        i = 0 \n",
    "        for g in mnist.read(dataset=dataset):\n",
    "            self.data[dataset]['labels'].append(g[0])\n",
    "            self.data[dataset]['values'].append(g[1])\n",
    "            i += 1\n",
    "            if i>= ndata:\n",
    "                break\n",
    "        \n",
    "    def generate_inputs(self, dataset='training', ndata=1):\n",
    "        # Load MNIST data\n",
    "        i = 0 \n",
    "        data = {'training':{'labels':[], 'values':[]}, 'testing':{'labels':[], 'values':[]}}\n",
    "        for g in mnist.read(dataset=dataset):\n",
    "            self.data[dataset]['labels'].append(g[0])\n",
    "            self.data[dataset]['values'].append(g[1])\n",
    "            i += 1\n",
    "            if i>= ndata:\n",
    "                break\n",
    "        # Transform data to reservoir input\n",
    "        vals = np.array(self.data[dataset]['values'])\n",
    "        print(dataset, 'input shape', vals.shape)\n",
    "        if self.WI is None:\n",
    "            Q = vals.shape[1] # nrows in original inputs\n",
    "            self.WI = scipy.sparse.random(self.K, Q, density=0.1,\n",
    "                                          data_rvs=lambda x: np.random.choice([-1,1], size=x))\n",
    "        if self.WI is None:\n",
    "            print(\"Need to train before testing\")\n",
    "            quit()\n",
    "        transf = np.einsum('ik,jkl->jil', self.WI.A, vals)\n",
    "        return transf.reshape(transf.shape[0], -1)\n",
    "    \n",
    "    def train(self, l_penalty=1, ndata=10):\n",
    "        input_matrix = self.generate_inputs('training', ndata=ndata)\n",
    "        print('input shape', input_matrix.shape)\n",
    "        tt, xmatrix = self.reservoir.run(input_matrix)\n",
    "        Mx = np.concatenate([x.reshape(self.K, -1) for x in xmatrix], axis=1)\n",
    "        I = np.eye(10)\n",
    "        My = np.concatenate([np.outer(I[l], np.ones(int(xmatrix.shape[1]/self.K)))\n",
    "                                 for l in self.data['training']['labels']], axis=1)\n",
    "        self.WR = np.dot( np.dot(My, Mx.T), np.linalg.inv(np.dot(Mx,Mx.T) - l_penalty*np.eye(self.K)) )\n",
    "        \n",
    "    def test(self, ndata=10):\n",
    "        input_matrix = self.generate_inputs('testing', ndata=ndata)\n",
    "        tt, xmatrix = self.reservoir.run(input_matrix)\n",
    "        Mx = np.concatenate([x.reshape(self.K, -1) for x in xmatrix], axis=1)\n",
    "        My = np.dot( self.WR, Mx )\n",
    "        I = np.eye(10)\n",
    "        return My, np.concatenate([np.outer(I[l], np.ones(int(xmatrix.shape[1]/self.K)))\n",
    "                                 for l in self.data['testing']['labels']], axis=1)\n"
   ]
  },
  {
   "cell_type": "code",
   "execution_count": 62,
   "metadata": {
    "collapsed": false
   },
   "outputs": [
    {
     "name": "stdout",
     "output_type": "stream",
     "text": [
      "training input shape (150, 28, 28)\n",
      "input shape (150, 10388)\n",
      "Warning: i = 37480 > 10388\n",
      "Warning: i = 37473 > 10388\n",
      "Warning: i = 37480 > 10388\n",
      "Warning: i = 37473 > 10388\n",
      "Warning: i = 37482 > 10388\n",
      "Warning: i = 37475 > 10388\n",
      "Warning: i = 37480 > 10388\n",
      "Warning: i = 37473 > 10388\n",
      "Warning: i = 37480 > 10388\n",
      "Warning: i = 37473 > 10388\n",
      "Warning: i = 37480 > 10388\n",
      "Warning: i = 37473 > 10388\n",
      "Warning: i = 37480 > 10388\n",
      "Warning: i = 37473 > 10388\n",
      "Warning: i = 37480 > 10388\n",
      "Warning: i = 37473 > 10388\n"
     ]
    },
    {
     "name": "stderr",
     "output_type": "stream",
     "text": [
      "/usr/lib/python3.5/site-packages/scipy/integrate/_ode.py:869: UserWarning: vode: Repeated error test failures. (Check all input.)\n",
      "  'Unexpected istate=%s' % istate))\n"
     ]
    },
    {
     "name": "stdout",
     "output_type": "stream",
     "text": [
      "Warning: i = 37487 > 10388\n",
      "Warning: i = 37479 > 10388\n",
      "Warning: i = 37487 > 10388\n",
      "Warning: i = 37479 > 10388\n",
      "Warning: i = 37480 > 10388\n",
      "Warning: i = 37473 > 10388\n",
      "Warning: i = 37480 > 10388\n",
      "Warning: i = 37473 > 10388\n",
      "Warning: i = 37480 > 10388\n",
      "Warning: i = 37473 > 10388\n",
      "Warning: i = 37480 > 10388\n",
      "Warning: i = 37473 > 10388\n",
      "Warning: i = 37480 > 10388\n",
      "Warning: i = 37473 > 10388\n",
      "Warning: i = 37480 > 10388\n",
      "Warning: i = 37473 > 10388\n",
      "Warning: i = 37480 > 10388\n",
      "Warning: i = 37473 > 10388\n",
      "Warning: i = 37480 > 10388\n",
      "Warning: i = 37473 > 10388\n",
      "Warning: i = 37480 > 10388\n",
      "Warning: i = 37473 > 10388\n",
      "Warning: i = 37480 > 10388\n",
      "Warning: i = 37473 > 10388\n",
      "Warning: i = 37480 > 10388\n",
      "Warning: i = 37473 > 10388\n",
      "Warning: i = 37480 > 10388\n",
      "Warning: i = 37473 > 10388\n",
      "Training finished. 22648.685519695282\n"
     ]
    }
   ],
   "source": [
    "learner = Learner()\n",
    "t = time.time()\n",
    "learner.train(l_penalty=1, ndata=150)\n",
    "print('Training finished.', time.time()-t)\n"
   ]
  },
  {
   "cell_type": "code",
   "execution_count": 63,
   "metadata": {
    "collapsed": false,
    "scrolled": true
   },
   "outputs": [
    {
     "name": "stdout",
     "output_type": "stream",
     "text": [
      "testing input shape (20, 28, 28)\n",
      "Warning: i = 37480 > 10388\n",
      "Warning: i = 37473 > 10388\n",
      "Warning: i = 37480 > 10388\n",
      "Warning: i = 37473 > 10388\n",
      "Warning: i = 37480 > 10388\n",
      "Warning: i = 37473 > 10388\n",
      "Testing finished. 2859.4373981952667\n"
     ]
    }
   ],
   "source": [
    "t = time.time()\n",
    "result, labels = learner.test(ndata=20)\n",
    "print('Testing finished.', time.time()-t)"
   ]
  },
  {
   "cell_type": "code",
   "execution_count": 65,
   "metadata": {
    "collapsed": true
   },
   "outputs": [],
   "source": [
    "import pickle\n",
    "pickle.dump(learner, open('learner_150.pkl','wb'))\n",
    "pickle.dump((result,labels), open('test_result_150_20.pkl','wb'))"
   ]
  },
  {
   "cell_type": "code",
   "execution_count": 111,
   "metadata": {
    "collapsed": true
   },
   "outputs": [],
   "source": [
    "%matplotlib inline\n",
    "\n",
    "def plot_results(labels, result, result_range):\n",
    "    nrows=3\n",
    "\n",
    "    fig = plt.figure(figsize=(16,3*nrows))\n",
    "\n",
    "    result_range = np.array(result_range)\n",
    "    data_range = range(28*result_range[0],28*(result_range[-1]+1))\n",
    "\n",
    "    plt.subplot(nrows,1,3)\n",
    "    plt.bar(np.arange(10*len(result_range)), \n",
    "            np.concatenate([np.sum(labels[:,i*28:(i+1)*28], axis=1) for i in result_range]),\n",
    "            color='orange')\n",
    "    plt.bar(np.arange(10*len(result_range)), \n",
    "            np.concatenate([np.sum(result[:,i*28:(i+1)*28], axis=1) for i in result_range]),\n",
    "            color='blue')\n",
    "    for i in range(len(result_range)):\n",
    "        plt.axvline(x=10*i-0.5, linestyle=':')\n",
    "    plt.xticks(np.arange(len(result_range)*10),list(range(10))*len(result_range))\n",
    "    plt.axhline(y=0, c='black', linewidth=0.5)\n",
    "\n",
    "    plt.subplot(nrows,1,1)\n",
    "    plt.imshow(result[:,data_range])\n",
    "    plt.yticks(np.arange(10))\n",
    "    plt.title('result')\n",
    "\n",
    "    plt.subplot(nrows,1,2)\n",
    "    plt.imshow(labels[:,data_range])\n",
    "    plt.yticks(np.arange(10))\n",
    "    plt.title('label')\n",
    "\n",
    "    plt.tight_layout()\n",
    "    \n",
    "def plot_compare_answer(labels, result):\n",
    "    label_mat = np.vstack([np.sum(labels[:,i*28:(i+1)*28], axis=1) for i in range(int(labels.shape[1]/28))]).T\n",
    "    result_mat = np.vstack([np.sum(result[:,i*28:(i+1)*28], axis=1) for i in range(int(result.shape[1]/28))]).T\n",
    "\n",
    "    compare_mat = np.vstack([[np.sum(labels[:,i*28:(i+1)*28], axis=1),\n",
    "                              np.sum(result[:,i*28:(i+1)*28], axis=1),\n",
    "                              np.amin(result_mat)*np.ones(10)] for i in range(int(labels.shape[1]/28))]).T\n",
    "\n",
    "    answer_mat = np.concatenate([[np.argmax(label_mat[:,i])==np.argmax(result_mat[:,i]),\n",
    "                                 np.argmax(label_mat[:,i])==np.argmax(result_mat[:,i]),\n",
    "                                 -1] for i in range(label_mat.shape[1])])\n",
    "\n",
    "    fig = plt.figure(figsize=(15,6))\n",
    "    plt.subplot(2,1,1)\n",
    "    plt.imshow(compare_mat)\n",
    "    plt.subplot(2,1,2)\n",
    "    plt.imshow([answer_mat])\n",
    "    plt.title('Error rate: {:5.2f}'.format(\n",
    "        np.sum(np.argmax(label_mat,axis=0)!=np.argmax(result_mat,axis=0))/label_mat.shape[1]))"
   ]
  },
  {
   "cell_type": "code",
   "execution_count": 121,
   "metadata": {
    "collapsed": false
   },
   "outputs": [
    {
     "data": {
      "image/png": "[encoded data removed]",
      "text/plain": [
       "<matplotlib.figure.Figure at 0x7fc50abf58d0>"
      ]
     },
     "metadata": {},
     "output_type": "display_data"
    }
   ],
   "source": [
    "plot_results(labels, result, np.arange(0,5))"
   ]
  },
  {
   "cell_type": "code",
   "execution_count": 118,
   "metadata": {
    "collapsed": false
   },
   "outputs": [
    {
     "data": {
      "image/png": "[encoded data removed]",
      "text/plain": [
       "<matplotlib.figure.Figure at 0x7fc50aa79dd8>"
      ]
     },
     "metadata": {},
     "output_type": "display_data"
    }
   ],
   "source": [
    "plot_compare_answer(labels, result)"
   ]
  },
  {
   "cell_type": "markdown",
   "metadata": {},
   "source": [
    "## Compare to linear regression\n",
    "\n",
    "For comparison, try an empty reservoir, just read out the inputs."
   ]
  },
  {
   "cell_type": "code",
   "execution_count": 116,
   "metadata": {
    "collapsed": false
   },
   "outputs": [
    {
     "name": "stdout",
     "output_type": "stream",
     "text": [
      "training input shape (900, 28, 28)\n",
      "testing input shape (120, 28, 28)\n"
     ]
    }
   ],
   "source": [
    "# training parameter\n",
    "l_penalty = 1\n",
    "\n",
    "# generate \"reservoir\" input \n",
    "trainmat = learner.generate_inputs(dataset='training', ndata=150)[-150:]\n",
    "testmat = learner.generate_inputs(dataset='testing', ndata=20)[-20:]\n",
    "I = np.eye(10)\n",
    "\n",
    "# train\n",
    "Mxtrain = np.concatenate([x.reshape(learner.K, -1) for x in trainmat], axis=1)\n",
    "Mytrain = np.concatenate([np.outer(I[l], np.ones(int(trainmat.shape[1]/learner.K)))\n",
    "                         for l in learner.data['training']['labels'][-150:]], axis=1)\n",
    "WRlin = np.dot( np.dot(Mytrain, Mxtrain.T), np.linalg.inv(np.dot(Mxtrain,Mxtrain.T) - l_penalty*np.eye(learner.K)) )\n",
    "\n",
    "# test\n",
    "Mxtest = np.concatenate([x.reshape(learner.K, -1) for x in testmat], axis=1)\n",
    "Mytest = np.dot( WRlin, Mxtest )\n",
    "labels = np.concatenate([np.outer(I[l], np.ones(int(testmat.shape[1]/learner.K)))\n",
    "                                 for l in learner.data['testing']['labels'][-20:]], axis=1)"
   ]
  },
  {
   "cell_type": "code",
   "execution_count": 119,
   "metadata": {
    "collapsed": false
   },
   "outputs": [
    {
     "data": {
      "image/png": "[encoded data removed]",
      "text/plain": [
       "<matplotlib.figure.Figure at 0x7fc50a99eeb8>"
      ]
     },
     "metadata": {},
     "output_type": "display_data"
    }
   ],
   "source": [
    "plot_results(labels, Mytest, np.arange(5))"
   ]
  },
  {
   "cell_type": "code",
   "execution_count": 120,
   "metadata": {
    "collapsed": false
   },
   "outputs": [
    {
     "data": {
      "image/png": "[encoded data removed]",
      "text/plain": [
       "<matplotlib.figure.Figure at 0x7fc50a833978>"
      ]
     },
     "metadata": {},
     "output_type": "display_data"
    }
   ],
   "source": [
    "plot_compare_answer(labels, Mytest)"
   ]
  },
  {
   "cell_type": "code",
   "execution_count": null,
   "metadata": {
    "collapsed": true
   },
   "outputs": [],
   "source": []
  },
  {
   "cell_type": "code",
   "execution_count": null,
   "metadata": {
    "collapsed": true
   },
   "outputs": [],
   "source": []
  },
  {
   "cell_type": "code",
   "execution_count": null,
   "metadata": {
    "collapsed": true
   },
   "outputs": [],
   "source": []
  }
 ],
 "metadata": {
  "kernelspec": {
   "display_name": "Python 3",
   "language": "python",
   "name": "python3"
  },
  "language_info": {
   "codemirror_mode": {
    "name": "ipython",
    "version": 3
   },
   "file_extension": ".py",
   "mimetype": "text/x-python",
   "name": "python",
   "nbconvert_exporter": "python",
   "pygments_lexer": "ipython3",
   "version": "3.5.2"
  }
 },
 "nbformat": 4,
 "nbformat_minor": 2
}
