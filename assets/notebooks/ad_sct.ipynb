{
 "cells": [
  {
   "cell_type": "markdown",
   "metadata": {},
   "source": [
    "modified source code transformation example from Sebastian F. Walter's  <a href=\"http://expdesign.iwr.uni-heidelberg.de/people/swalter/blog/python_source_trafo_ad/index.html\"> blog post </a>."
   ]
  },
  {
   "cell_type": "code",
   "execution_count": 1,
   "metadata": {
    "collapsed": true
   },
   "outputs": [],
   "source": [
    "import ast\n",
    "import codegen"
   ]
  },
  {
   "cell_type": "code",
   "execution_count": 2,
   "metadata": {
    "collapsed": false
   },
   "outputs": [
    {
     "name": "stdout",
     "output_type": "stream",
     "text": [
      "Writing func.py\n"
     ]
    }
   ],
   "source": [
    "%%writefile func.py\n",
    "y = x1 + x1*x2"
   ]
  },
  {
   "cell_type": "code",
   "execution_count": 3,
   "metadata": {
    "collapsed": false
   },
   "outputs": [
    {
     "data": {
      "text/plain": [
       "\"Module(body=[Assign(targets=[Name(id='y', ctx=Store())], value=BinOp(left=Name(id='x1', ctx=Load()), op=Add(), right=BinOp(left=Name(id='x1', ctx=Load()), op=Mult(), right=Name(id='x2', ctx=Load()))))])\""
      ]
     },
     "execution_count": 3,
     "metadata": {},
     "output_type": "execute_result"
    }
   ],
   "source": [
    "with open(\"func.py\") as f:\n",
    "    source = f.read()\n",
    "# en with open\n",
    "\n",
    "node = ast.parse(source)\n",
    "node = ast.fix_missing_locations(node)\n",
    "ast.dump(node)"
   ]
  },
  {
   "cell_type": "markdown",
   "metadata": {},
   "source": [
    "``` python\n",
    "BinOp(\n",
    "    left=Name(id='x1', ctx=Load()), \n",
    "    op=Add(), \n",
    "    right=BinOp(\n",
    "        left=Name(id='x1', ctx=Load()),\n",
    "        op=Mult(),\n",
    "        right=Name(id='x2', ctx=Load())\n",
    "    )\n",
    ")\n",
    "```"
   ]
  },
  {
   "cell_type": "code",
   "execution_count": 4,
   "metadata": {
    "collapsed": true
   },
   "outputs": [],
   "source": [
    "class MyVisitor(ast.NodeVisitor):\n",
    "    def visit(self, node, d=False):\n",
    "        if d == False:\n",
    "            if isinstance(node, ast.Module):\n",
    "                line_number = 0\n",
    "                while line_number < len(node.body):\n",
    "                    line = node.body[line_number]\n",
    "                    if isinstance(line, ast.Assign):\n",
    "                        # derivative code\n",
    "                        expr = node.body[line_number].value\n",
    "                        id = line.targets[0].id\n",
    "                        node_d = self.visit(expr, True)\n",
    "                        node.body.insert(line_number, ast.Assign(targets=[ast.Name(id='%s_d'%id)], value=node_d))\n",
    "                        line_number += 2\n",
    "                    else:\n",
    "                        self.visit(line)\n",
    "                        line_number += 1\n",
    "            else:\n",
    "                super(MyVisitor, self).visit(node)\n",
    "\n",
    "        else:\n",
    "            # print 'visit node_d'\n",
    "            # print type(node)\n",
    "            if isinstance(node, ast.BinOp):\n",
    "                # print 'Binop'\n",
    "                if isinstance(node.op, ast.Mult):\n",
    "                    # print 'v'*20 + 'Mult'\n",
    "                    # print ast.dump(node.left)\n",
    "                    # print ast.dump(node.right)\n",
    "                    left_d = self.visit(node.left, d=True)\n",
    "                    right_d = self.visit(node.right, d=True)\n",
    "                    # print ast.dump(left_d)\n",
    "                    # print ast.dump(right_d)\n",
    "                    a_d  = ast.BinOp(op=ast.Mult(), left=node.left, right=right_d)\n",
    "                    b_d  = ast.BinOp(op=ast.Mult(), left=left_d, right=node.right)\n",
    "                    node_d = ast.BinOp(op=ast.Add(),  left=a_d, right=b_d)\n",
    "                    # print ast.dump(node_d)\n",
    "                    # print '-'*20\n",
    "\n",
    "                elif isinstance(node.op, ast.Add):\n",
    "                    # print 'Add'\n",
    "                    # print ast.dump(node.left)\n",
    "                    # print ast.dump(node.right)\n",
    "                    left_d = self.visit(node.left, d=True)\n",
    "                    right_d = self.visit(node.right, d=True)\n",
    "                    node_d = ast.BinOp(op=ast.Add(),  left=left_d, right=right_d)\n",
    "                else:\n",
    "                    pass#raise NotImplemented()\n",
    "\n",
    "            elif isinstance(node, ast.Name):\n",
    "                return ast.Name(id='%s_d'%node.id)\n",
    "            else:\n",
    "                pass#raise NotImplemented()\n",
    "            return node_d"
   ]
  },
  {
   "cell_type": "code",
   "execution_count": 5,
   "metadata": {
    "collapsed": false
   },
   "outputs": [
    {
     "name": "stdout",
     "output_type": "stream",
     "text": [
      "y_d = x1_d + x1 * x2_d + x1_d * x2\n",
      "y = x1 + x1 * x2\n"
     ]
    }
   ],
   "source": [
    "# transform source code instructions\n",
    "MyVisitor().visit(node)\n",
    "# unparse instructions to derivative source code\n",
    "print codegen.to_source(ast.parse(node))"
   ]
  },
  {
   "cell_type": "code",
   "execution_count": 6,
   "metadata": {
    "collapsed": false
   },
   "outputs": [
    {
     "name": "stdout",
     "output_type": "stream",
     "text": [
      "y = x1 + x1*x2\n"
     ]
    }
   ],
   "source": [
    "print source"
   ]
  },
  {
   "cell_type": "code",
   "execution_count": 7,
   "metadata": {
    "collapsed": false
   },
   "outputs": [
    {
     "data": {
      "text/plain": [
       "\"Module(body=[Assign(targets=[Name(id='y_d')], value=BinOp(left=Name(id='x1_d'), op=Add(), right=BinOp(left=BinOp(left=Name(id='x1', ctx=Load()), op=Mult(), right=Name(id='x2_d')), op=Add(), right=BinOp(left=Name(id='x1_d'), op=Mult(), right=Name(id='x2', ctx=Load()))))), Assign(targets=[Name(id='y', ctx=Store())], value=BinOp(left=Name(id='x1', ctx=Load()), op=Add(), right=BinOp(left=Name(id='x1', ctx=Load()), op=Mult(), right=Name(id='x2', ctx=Load()))))])\""
      ]
     },
     "execution_count": 7,
     "metadata": {},
     "output_type": "execute_result"
    }
   ],
   "source": [
    "ast.dump(node)"
   ]
  },
  {
   "cell_type": "markdown",
   "metadata": {},
   "source": [
    "``` python\n",
    "BinOp(\n",
    "    left=Name(id='x1_d'), \n",
    "    op=Add(), \n",
    "    right=BinOp(\n",
    "        left=BinOp(\n",
    "            left=Name(id='x1', ctx=Load()), \n",
    "            op=Mult(), \n",
    "            right=Name(id='x2_d')\n",
    "        ), \n",
    "        op=Add(), \n",
    "        right=BinOp(\n",
    "            left=Name(id='x1_d'), \n",
    "            op=Mult(), \n",
    "            right=Name(id='x2', ctx=Load())\n",
    "        )\n",
    "    )\n",
    ")\n",
    "```"
   ]
  }
 ],
 "metadata": {
  "kernelspec": {
   "display_name": "Python 2",
   "language": "python",
   "name": "python2"
  },
  "language_info": {
   "codemirror_mode": {
    "name": "ipython",
    "version": 2
   },
   "file_extension": ".py",
   "mimetype": "text/x-python",
   "name": "python",
   "nbconvert_exporter": "python",
   "pygments_lexer": "ipython2",
   "version": "2.7.6"
  }
 },
 "nbformat": 4,
 "nbformat_minor": 0
}
