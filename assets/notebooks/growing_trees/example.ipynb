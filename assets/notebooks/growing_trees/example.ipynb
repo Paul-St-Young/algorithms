{
 "cells": [
  {
   "cell_type": "code",
   "execution_count": 2,
   "id": "growing-madonna",
   "metadata": {},
   "outputs": [],
   "source": [
    "import networkx as nx\n",
    "import matplotlib.pyplot as plt\n",
    "from random import choice\n",
    "from temporal_recovery import compute_p\n",
    "from full_marginal import one_node_marginals\n",
    "\n",
    "def grow_tree(N):\n",
    "    # grow tree with N nodes\n",
    "    G = nx.Graph()\n",
    "    G.add_node(0) # note: compute_p() appears to require that the nodes be integers (?)\n",
    "    for i in range(1, N):\n",
    "        G.add_edge(choice(list(G.nodes)), i) # pick existing node at random, grow node i from it\n",
    "    return G"
   ]
  },
  {
   "cell_type": "code",
   "execution_count": 8,
   "id": "tracked-commissioner",
   "metadata": {},
   "outputs": [],
   "source": [
    "G = grow_tree(50)\n",
    "nx.draw_kamada_kawai(G, node_color=range(len(G)), cmap=plt.get_cmap('Paired'))"
   ]
  },
  {
   "cell_type": "code",
   "execution_count": 4,
   "id": "julian-marketing",
   "metadata": {},
   "outputs": [],
   "source": [
    "p = compute_p(G)\n",
    "plt.semilogy(p, '.')\n",
    "plt.grid()\n",
    "plt.xticks(np.arange(len(G)))\n",
    "plt.xlabel('Node number')\n",
    "plt.ylabel('Probability of being the first node')\n",
    "plt.tight_layout()"
   ]
  },
  {
   "cell_type": "code",
   "execution_count": 6,
   "id": "martial-future",
   "metadata": {},
   "outputs": [],
   "source": [
    "p_t = one_node_marginals(G) # p_t[i,j] is the probability that node i arrived at time j"
   ]
  },
  {
   "cell_type": "code",
   "execution_count": 7,
   "id": "still-trinity",
   "metadata": {},
   "outputs": [
    {
     "data": {
      "text/plain": [
       "Text(0, 0.5, 't')"
      ]
     },
     "execution_count": 7,
     "metadata": {},
     "output_type": "execute_result"
    }
   ],
   "source": [
    "plt.imshow(p_t)\n",
    "plt.colorbar(label='probability')\n",
    "plt.xticks(np.arange(len(G)))\n",
    "plt.yticks(np.arange(len(G)))\n",
    "plt.xlabel('node number')\n",
    "plt.ylabel('t')"
   ]
  },
  {
   "cell_type": "code",
   "execution_count": 5,
   "id": "furnished-authority",
   "metadata": {},
   "outputs": [],
   "source": [
    "nx.draw_kamada_kawai(G, node_color=range(len(G)), cmap=plt.get_cmap('Paired'), with_labels=True)"
   ]
  },
  {
   "cell_type": "code",
   "execution_count": null,
   "id": "central-cinema",
   "metadata": {},
   "outputs": [],
   "source": []
  }
 ],
 "metadata": {
  "kernelspec": {
   "display_name": "Python 3",
   "language": "python",
   "name": "python3"
  },
  "language_info": {
   "codemirror_mode": {
    "name": "ipython",
    "version": 3
   },
   "file_extension": ".py",
   "mimetype": "text/x-python",
   "name": "python",
   "nbconvert_exporter": "python",
   "pygments_lexer": "ipython3",
   "version": "3.7.9"
  }
 },
 "nbformat": 4,
 "nbformat_minor": 5
}
