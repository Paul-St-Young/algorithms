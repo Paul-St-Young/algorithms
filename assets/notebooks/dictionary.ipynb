{
 "cells": [
  {
   "cell_type": "markdown",
   "metadata": {},
   "source": [
    "# A hash function can convert a key into an index in a list."
   ]
  },
  {
   "cell_type": "code",
   "execution_count": 1,
   "metadata": {},
   "outputs": [],
   "source": [
    "def get_hash_index(key, table_length):\n",
    "    print(\"Converting \\\"\" + key + \"\\\" to list index\")\n",
    "    print(\"Hash of \\\"\" + key + \"\\\" is\", hash(key))\n",
    "    key_index = hash(key) % table_length\n",
    "    print(\"Index in list of length\", table_length, \"is\", key_index)\n",
    "    return key_index"
   ]
  },
  {
   "cell_type": "code",
   "execution_count": 2,
   "metadata": {},
   "outputs": [
    {
     "name": "stdout",
     "output_type": "stream",
     "text": [
      "Converting \"breed\" to list index\n",
      "Hash of \"breed\" is -4896169216669410478\n",
      "Index in list of length 10 is 2\n"
     ]
    },
    {
     "data": {
      "text/plain": [
       "2"
      ]
     },
     "execution_count": 2,
     "metadata": {},
     "output_type": "execute_result"
    }
   ],
   "source": [
    "get_hash_index(\"breed\", 10)"
   ]
  },
  {
   "cell_type": "markdown",
   "metadata": {},
   "source": [
    "# We start with an empty hash table. Since NONE is hashable, we need to create a separate placeholder object to act as a null entry in the table."
   ]
  },
  {
   "cell_type": "code",
   "execution_count": 3,
   "metadata": {},
   "outputs": [],
   "source": [
    "class EmptyValue():\n",
    "    def __repr__(self):\n",
    "        return \"EMPTY\"\n",
    "\n",
    "EMPTY = EmptyValue()"
   ]
  },
  {
   "cell_type": "code",
   "execution_count": 4,
   "metadata": {},
   "outputs": [],
   "source": [
    "class Entry():\n",
    "    def __init__(self, key=EMPTY, key_hash=EMPTY, value=EMPTY):\n",
    "        self.key = key\n",
    "        self.key_hash = key_hash\n",
    "        self.value = value"
   ]
  },
  {
   "cell_type": "code",
   "execution_count": 5,
   "metadata": {},
   "outputs": [],
   "source": [
    "class HashTable():\n",
    "    def __init__(self, key_value_pairs):\n",
    "        self.table_length = 2 * len(key_value_pairs)\n",
    "        self.entries = [Entry() for _ in range(self.table_length)]\n",
    "        for key_value_pair in key_value_pairs:\n",
    "            self.set_key_value_pair(key_value_pair)\n",
    "\n",
    "    def __repr__(self):\n",
    "        print(\"Key Hash Value\")\n",
    "        print(\"--------------\")\n",
    "        for entry in self.entries:\n",
    "            print(entry.key, entry.key_hash, entry.value)\n",
    "        return \"--------------\""
   ]
  },
  {
   "cell_type": "markdown",
   "metadata": {},
   "source": [
    "# To actually use the hash function to populate a hash table, we will need a probing function to deal with collisions."
   ]
  },
  {
   "cell_type": "code",
   "execution_count": 6,
   "metadata": {},
   "outputs": [],
   "source": [
    "def set_key_value_pair(self, key_value_pair):\n",
    "    key, value = key_value_pair\n",
    "    key_hash = hash(key)\n",
    "    key_index = key_hash % self.table_length\n",
    "    for probe_count in range(self.table_length):\n",
    "        probe_index = (key_index + probe_count) % self.table_length\n",
    "        if self.entries[probe_index].key_hash == EMPTY:\n",
    "            self.entries[probe_index].key = key\n",
    "            self.entries[probe_index].key_hash = key_hash\n",
    "            self.entries[probe_index].value = value\n",
    "            return\n",
    "        elif self.entries[probe_index].key_hash == key_hash and self.entry[probe_index].key == key:\n",
    "            self.entries[probe_index].value = value\n",
    "            return\n",
    "    raise Exception(\"This hash table is full. This should not happen!\")\n",
    "\n",
    "HashTable.set_key_value_pair = set_key_value_pair"
   ]
  },
  {
   "cell_type": "code",
   "execution_count": 7,
   "metadata": {},
   "outputs": [
    {
     "name": "stdout",
     "output_type": "stream",
     "text": [
      "Key Hash Value\n",
      "--------------\n",
      "EMPTY EMPTY EMPTY\n",
      "EMPTY EMPTY EMPTY\n",
      "a 4493805283009629572 1\n",
      "b 946192824984687291 2\n",
      "c 2456112889579266945 3\n",
      "EMPTY EMPTY EMPTY\n",
      "--------------\n"
     ]
    }
   ],
   "source": [
    "hash_table = HashTable([(\"a\", 1), (\"b\", 2), (\"c\", 3)])\n",
    "print(hash_table)"
   ]
  },
  {
   "cell_type": "markdown",
   "metadata": {},
   "source": [
    "# When removing a key, replace it with a DUMMY object so as not to break key finding via linear probing. Just replacing the key hash is enough."
   ]
  },
  {
   "cell_type": "code",
   "execution_count": 8,
   "metadata": {},
   "outputs": [],
   "source": [
    "class DummyValue():\n",
    "    def __repr__(self):\n",
    "        return \"DUMMY\"\n",
    "\n",
    "DUMMY = DummyValue()"
   ]
  },
  {
   "cell_type": "code",
   "execution_count": 9,
   "metadata": {},
   "outputs": [],
   "source": [
    "def remove_key(self, key):\n",
    "    key_hash = hash(key)\n",
    "    key_index = key_hash % self.table_length\n",
    "    for probe_count in range(self.table_length):\n",
    "        probe_index = (key_index + probe_count) % self.table_length\n",
    "        if self.entries[probe_index].key_hash == key_hash and self.entries[probe_index].key == key:\n",
    "            self.entries[probe_index].key_hash = DUMMY\n",
    "            return\n",
    "    print(\"Key was not in hash table.\")\n",
    "\n",
    "HashTable.remove_key = remove_key"
   ]
  },
  {
   "cell_type": "code",
   "execution_count": 10,
   "metadata": {},
   "outputs": [
    {
     "name": "stdout",
     "output_type": "stream",
     "text": [
      "Key Hash Value\n",
      "--------------\n",
      "EMPTY EMPTY EMPTY\n",
      "EMPTY EMPTY EMPTY\n",
      "a DUMMY 1\n",
      "b 946192824984687291 2\n",
      "c 2456112889579266945 3\n",
      "EMPTY EMPTY EMPTY\n",
      "--------------\n"
     ]
    }
   ],
   "source": [
    "hash_table.remove_key(\"a\")\n",
    "print(hash_table)"
   ]
  },
  {
   "cell_type": "markdown",
   "metadata": {},
   "source": [
    "# We now want to add functionality for resizing the table (once there are too many entries). To do this, let's alter our code by adding variables for tracking the load factor of the table."
   ]
  },
  {
   "cell_type": "code",
   "execution_count": 11,
   "metadata": {},
   "outputs": [],
   "source": [
    "class HashTable():\n",
    "    def __init__(self, key_value_pairs=None):\n",
    "        if key_value_pairs is None:\n",
    "            self.table_length = 8\n",
    "        else:\n",
    "            self.table_length = 2 * len(key_value_pairs)\n",
    "        self.entries = [Entry() for _ in range(self.table_length)]\n",
    "        self.filled = 0\n",
    "        self.filled_non_dummy = 0\n",
    "        if key_value_pairs is not None:\n",
    "            for key, value in key_value_pairs:\n",
    "                self[key] = value\n",
    "\n",
    "    def __repr__(self):\n",
    "        print(\"Key Hash Value\")\n",
    "        print(\"--------------\")\n",
    "        for entry in self.entries:\n",
    "            print(entry.key, entry.key_hash, entry.value)\n",
    "        return \"--------------\"\n",
    "\n",
    "    def __setitem__(self, key, value):\n",
    "        key_hash = hash(key)\n",
    "        key_index = key_hash % self.table_length\n",
    "        for probe_count in range(self.table_length):\n",
    "            probe_index = (key_index + probe_count) % self.table_length\n",
    "            if self.entries[probe_index].key_hash == EMPTY:\n",
    "                self.entries[probe_index].key = key\n",
    "                self.entries[probe_index].key_hash = key_hash\n",
    "                self.entries[probe_index].value = value\n",
    "                self.filled += 1\n",
    "                self.filled_non_dummy += 1\n",
    "                if self.filled/self.table_length >= 2/3:\n",
    "                    self.resize_table()\n",
    "                return\n",
    "            elif self.entries[probe_index].key_hash == key_hash and self.entries[probe_index].key == key:\n",
    "                self.entries[probe_index].value = value\n",
    "                return\n",
    "        raise Exception(\"This hash table is full. This should not happen!\")\n",
    "\n",
    "    def __getitem__(self, key):\n",
    "        key_hash = hash(key)\n",
    "        key_index = key_hash % self.table_length\n",
    "        for probe_count in range(self.table_length):\n",
    "            probe_index = (key_index + probe_count) % self.table_length\n",
    "            if self.entries[probe_index].key_hash == key_hash and self.entries[probe_index].key == key:\n",
    "                return self.entries[probe_index].value\n",
    "        print(\"Key was not in hash table.\")\n",
    "\n",
    "    def __delitem__(self, key):\n",
    "        key_hash = hash(key)\n",
    "        key_index = key_hash % self.table_length\n",
    "        for probe_count in range(self.table_length):\n",
    "            probe_index = (key_index + probe_count) % self.table_length\n",
    "            if self.entries[probe_index].key_hash == key_hash and self.entries[probe_index].key == key:\n",
    "                self.entries[probe_index].key_hash = DUMMY\n",
    "                self.filled_non_dummy -= 1\n",
    "                return\n",
    "        print(\"Key was not in hash table.\")"
   ]
  },
  {
   "cell_type": "code",
   "execution_count": 12,
   "metadata": {},
   "outputs": [
    {
     "name": "stdout",
     "output_type": "stream",
     "text": [
      "Key Hash Value\n",
      "--------------\n",
      "EMPTY EMPTY EMPTY\n",
      "c 2456112889579266945 3\n",
      "EMPTY EMPTY EMPTY\n",
      "b 946192824984687291 2\n",
      "a 4493805283009629572 1\n",
      "EMPTY EMPTY EMPTY\n",
      "EMPTY EMPTY EMPTY\n",
      "EMPTY EMPTY EMPTY\n",
      "--------------\n"
     ]
    }
   ],
   "source": [
    "hash_table = HashTable()\n",
    "hash_table[\"a\"] = 1\n",
    "hash_table[\"b\"] = 2\n",
    "hash_table[\"c\"] = 3\n",
    "print(hash_table)"
   ]
  },
  {
   "cell_type": "code",
   "execution_count": 13,
   "metadata": {},
   "outputs": [
    {
     "name": "stdout",
     "output_type": "stream",
     "text": [
      "1\n",
      "\n",
      "Key was not in hash table.\n",
      "None\n"
     ]
    }
   ],
   "source": [
    "print(hash_table[\"a\"])\n",
    "print(\"\")\n",
    "print(hash_table[\"g\"])"
   ]
  },
  {
   "cell_type": "markdown",
   "metadata": {},
   "source": [
    "# Now the actual resizing code."
   ]
  },
  {
   "cell_type": "code",
   "execution_count": 14,
   "metadata": {},
   "outputs": [],
   "source": [
    "def resize_table(self):\n",
    "    best_size = 8\n",
    "    while best_size <= 2 * self.filled_non_dummy:\n",
    "        best_size *= 2\n",
    "    old_entries = self.entries\n",
    "    self.entries = [Entry() for _ in range(best_size)]\n",
    "    self.filled = 0\n",
    "    self.filled_non_dummy = 0\n",
    "    self.table_length = best_size\n",
    "    for entry in old_entries:\n",
    "        if entry.key_hash not in [EMPTY, DUMMY]:\n",
    "            self[entry.key] = entry.value\n",
    "\n",
    "HashTable.resize_table = resize_table"
   ]
  },
  {
   "cell_type": "code",
   "execution_count": 15,
   "metadata": {},
   "outputs": [
    {
     "name": "stdout",
     "output_type": "stream",
     "text": [
      "Key Hash Value\n",
      "--------------\n",
      "EMPTY EMPTY EMPTY\n",
      "c 2456112889579266945 3\n",
      "EMPTY EMPTY EMPTY\n",
      "b DUMMY 2\n",
      "a 4493805283009629572 1\n",
      "EMPTY EMPTY EMPTY\n",
      "EMPTY EMPTY EMPTY\n",
      "EMPTY EMPTY EMPTY\n",
      "--------------\n",
      "Key Hash Value\n",
      "--------------\n",
      "EMPTY EMPTY EMPTY\n",
      "c 2456112889579266945 3\n",
      "EMPTY EMPTY EMPTY\n",
      "EMPTY EMPTY EMPTY\n",
      "a 4493805283009629572 1\n",
      "EMPTY EMPTY EMPTY\n",
      "EMPTY EMPTY EMPTY\n",
      "EMPTY EMPTY EMPTY\n",
      "--------------\n"
     ]
    }
   ],
   "source": [
    "del hash_table[\"b\"]\n",
    "print(hash_table)\n",
    "hash_table.resize_table()\n",
    "print(hash_table)"
   ]
  },
  {
   "cell_type": "code",
   "execution_count": 16,
   "metadata": {},
   "outputs": [
    {
     "name": "stdout",
     "output_type": "stream",
     "text": [
      "Key Hash Value\n",
      "--------------\n",
      "f 6521141960016516176 6\n",
      "c 2456112889579266945 3\n",
      "h 8789388229297159169 8\n",
      "EMPTY EMPTY EMPTY\n",
      "a 4493805283009629572 1\n",
      "d 939367358622959812 4\n",
      "g -676098638105907484 7\n",
      "EMPTY EMPTY EMPTY\n",
      "EMPTY EMPTY EMPTY\n",
      "EMPTY EMPTY EMPTY\n",
      "EMPTY EMPTY EMPTY\n",
      "EMPTY EMPTY EMPTY\n",
      "EMPTY EMPTY EMPTY\n",
      "EMPTY EMPTY EMPTY\n",
      "EMPTY EMPTY EMPTY\n",
      "e 4335304777201237407 5\n",
      "--------------\n"
     ]
    }
   ],
   "source": [
    "hash_table[\"d\"] = 4\n",
    "hash_table[\"e\"] = 5\n",
    "hash_table[\"f\"] = 6\n",
    "hash_table[\"g\"] = 7\n",
    "hash_table[\"h\"] = 8\n",
    "print(hash_table)"
   ]
  },
  {
   "cell_type": "markdown",
   "metadata": {},
   "source": [
    "# We can update the key setting code to recycle dummy keys if the key is not already in the table."
   ]
  },
  {
   "cell_type": "code",
   "execution_count": 17,
   "metadata": {},
   "outputs": [],
   "source": [
    "def __setitem__(self, key, value):\n",
    "    key_hash = hash(key)\n",
    "    key_index = key_hash % self.table_length\n",
    "    dummy_index = None\n",
    "    for probe_count in range(self.table_length):\n",
    "        probe_index = (key_index + probe_count) % self.table_length\n",
    "        if self.entries[probe_index].key_hash == EMPTY:\n",
    "            if dummy_index is not None:\n",
    "                probe_index = dummy_index\n",
    "            self.entries[probe_index].key = key\n",
    "            self.entries[probe_index].key_hash = key_hash\n",
    "            self.entries[probe_index].value = value\n",
    "            self.filled += 1\n",
    "            self.filled_non_dummy += 1\n",
    "            if self.filled/self.table_length >= 2/3:\n",
    "                self.resize_table()\n",
    "            return\n",
    "        elif self.entries[probe_index].key_hash == key_hash and self.entries[probe_index].key == key:\n",
    "            self.entries[probe_index].value = value\n",
    "            return\n",
    "        elif self.entries[probe_index].key_hash == DUMMY:\n",
    "            dummy_index = probe_index\n",
    "    raise Exception(\"This hash table is full. This should not happen!\")\n",
    "\n",
    "HashTable.__setitem__ = __setitem__"
   ]
  },
  {
   "cell_type": "markdown",
   "metadata": {},
   "source": [
    "# The final dictionary code is below."
   ]
  },
  {
   "cell_type": "code",
   "execution_count": 18,
   "metadata": {},
   "outputs": [],
   "source": [
    "class HashTable():\n",
    "    '''A passable demonstration of the Python dictionary.'''\n",
    "    def __init__(self, key_value_pairs=None):\n",
    "        if key_value_pairs is None:\n",
    "            self.table_length = 8\n",
    "        else:\n",
    "            self.table_length = 2 * len(key_value_pairs)\n",
    "        self.entries = [Entry() for _ in range(self.table_length)]\n",
    "        self.filled = 0\n",
    "        self.filled_non_dummy = 0\n",
    "        if key_value_pairs is not None:\n",
    "            for key, value in key_value_pairs:\n",
    "                self[key] = value\n",
    "\n",
    "    def __repr__(self):\n",
    "        print(\"Key Hash Value\")\n",
    "        print(\"--------------\")\n",
    "        for entry in self.entries:\n",
    "            print(entry.key, entry.key_hash, entry.value)\n",
    "        return \"--------------\"\n",
    "\n",
    "    def __setitem__(self, key, value):\n",
    "        key_hash = hash(key)\n",
    "        key_index = key_hash % self.table_length\n",
    "        dummy_index = None\n",
    "        for probe_count in range(self.table_length):\n",
    "            probe_index = (key_index + probe_count) % self.table_length\n",
    "            if self.entries[probe_index].key_hash == EMPTY:\n",
    "                if dummy_index is not None:\n",
    "                    probe_index = dummy_index\n",
    "                self.entries[probe_index].key = key\n",
    "                self.entries[probe_index].key_hash = key_hash\n",
    "                self.entries[probe_index].value = value\n",
    "                self.filled += 1\n",
    "                self.filled_non_dummy += 1\n",
    "                if self.filled/self.table_length >= 2/3:\n",
    "                    self.resize_table()\n",
    "                return\n",
    "            elif self.entries[probe_index].key_hash == key_hash and self.entries[probe_index].key == key:\n",
    "                self.entries[probe_index].value = value\n",
    "                return\n",
    "            elif self.entries[probe_index].key_hash == DUMMY:\n",
    "                dummy_index = probe_index\n",
    "        raise Exception(\"This hash table is full. This should not happen!\")\n",
    "\n",
    "    def __getitem__(self, key):\n",
    "        key_hash = hash(key)\n",
    "        key_index = key_hash % self.table_length\n",
    "        for probe_count in range(self.table_length):\n",
    "            probe_index = (key_index + probe_count) % self.table_length\n",
    "            if self.entries[probe_index].key_hash == key_hash and self.entries[probe_index].key == key:\n",
    "                return self.entries[probe_index].value\n",
    "        print(\"Key was not in hash table.\")\n",
    "\n",
    "    def __delitem__(self, key):\n",
    "        key_hash = hash(key)\n",
    "        key_index = key_hash % self.table_length\n",
    "        for probe_count in range(self.table_length):\n",
    "            probe_index = (key_index + probe_count) % self.table_length\n",
    "            if self.entries[probe_index].key_hash == key_hash and self.entries[probe_index].key == key:\n",
    "                self.entries[probe_index].key_hash = DUMMY\n",
    "                self.filled_non_dummy -= 1\n",
    "                return\n",
    "        print(\"Key was not in hash table.\")\n",
    "\n",
    "    def resize_table(self):\n",
    "        best_size = 8\n",
    "        while best_size <= 2 * self.filled_non_dummy:\n",
    "            best_size *= 2\n",
    "        old_entries = self.entries\n",
    "        self.entries = [Entry() for _ in range(best_size)]\n",
    "        self.filled = 0\n",
    "        self.filled_non_dummy = 0\n",
    "        self.table_length = best_size\n",
    "        for entry in old_entries:\n",
    "            if entry.key_hash not in [EMPTY, DUMMY]:\n",
    "                self[entry.key] = entry.value"
   ]
  },
  {
   "cell_type": "code",
   "execution_count": null,
   "metadata": {},
   "outputs": [],
   "source": []
  }
 ],
 "metadata": {
  "kernelspec": {
   "display_name": "Python 3",
   "language": "python",
   "name": "python3"
  },
  "language_info": {
   "codemirror_mode": {
    "name": "ipython",
    "version": 3
   },
   "file_extension": ".py",
   "mimetype": "text/x-python",
   "name": "python",
   "nbconvert_exporter": "python",
   "pygments_lexer": "ipython3",
   "version": "3.7.2"
  }
 },
 "nbformat": 4,
 "nbformat_minor": 2
}
